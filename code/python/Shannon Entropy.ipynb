{
 "cells": [
  {
   "cell_type": "code",
   "execution_count": 1,
   "metadata": {},
   "outputs": [],
   "source": [
    "import collections\n",
    "import math"
   ]
  },
  {
   "cell_type": "code",
   "execution_count": 30,
   "metadata": {},
   "outputs": [],
   "source": [
    "# https://onestopdataanalysis.com/shannon-entropy/\n",
    "def estimate_shannon_entropy(sequence):\n",
    "    m = len(sequence)\n",
    "    frequencies = collections.Counter([tmp_base for tmp_base in sequence])\n",
    "    shannon_entropy_value = 0\n",
    "    for s_i in sequence:\n",
    "        # number of residues\n",
    "        n_i = frequencies[s_i]\n",
    "        p_i = n_i / float(m)\n",
    "        entropy_i = p_i * (math.log(p_i, 2))\n",
    "        print(s_i, n_i, p_i, entropy_i)\n",
    "        shannon_entropy_value += entropy_i\n",
    "    print(shannon_entropy_value * -1)\n",
    "    return shannon_entropy_value * -1"
   ]
  },
  {
   "cell_type": "code",
   "execution_count": 67,
   "metadata": {},
   "outputs": [
    {
     "name": "stdout",
     "output_type": "stream",
     "text": [
      "(3, 2, 0.3333333333333333, -0.5283208335737187)\n",
      "(2, 2, 0.3333333333333333, -0.5283208335737187)\n",
      "(1, 2, 0.3333333333333333, -0.5283208335737187)\n",
      "(1, 2, 0.3333333333333333, -0.5283208335737187)\n",
      "(3, 2, 0.3333333333333333, -0.5283208335737187)\n",
      "(2, 2, 0.3333333333333333, -0.5283208335737187)\n",
      "3.16992500144\n",
      "(1, 2, 0.3333333333333333, -0.5283208335737187)\n",
      "(2, 2, 0.3333333333333333, -0.5283208335737187)\n",
      "(3, 2, 0.3333333333333333, -0.5283208335737187)\n",
      "(1, 2, 0.3333333333333333, -0.5283208335737187)\n",
      "(2, 2, 0.3333333333333333, -0.5283208335737187)\n",
      "(3, 2, 0.3333333333333333, -0.5283208335737187)\n",
      "3.16992500144\n",
      "(1, 4, 0.5, -0.5)\n",
      "(2, 4, 0.5, -0.5)\n",
      "(1, 4, 0.5, -0.5)\n",
      "(2, 4, 0.5, -0.5)\n",
      "(1, 4, 0.5, -0.5)\n",
      "(2, 4, 0.5, -0.5)\n",
      "(1, 4, 0.5, -0.5)\n",
      "(2, 4, 0.5, -0.5)\n",
      "4.0\n",
      "(2, 4, 0.5, -0.5)\n",
      "(2, 4, 0.5, -0.5)\n",
      "(1, 4, 0.5, -0.5)\n",
      "(2, 4, 0.5, -0.5)\n",
      "(1, 4, 0.5, -0.5)\n",
      "(1, 4, 0.5, -0.5)\n",
      "(1, 4, 0.5, -0.5)\n",
      "(2, 4, 0.5, -0.5)\n",
      "4.0\n"
     ]
    },
    {
     "data": {
      "text/plain": [
       "4.0"
      ]
     },
     "execution_count": 67,
     "metadata": {},
     "output_type": "execute_result"
    }
   ],
   "source": [
    "estimate_shannon_entropy([3,2,1,1,3,2])\n",
    "estimate_shannon_entropy([1,2,3,1,2,3])\n",
    "estimate_shannon_entropy([1,2,1,2,1,2,1,2])\n",
    "estimate_shannon_entropy([2,2,1,2,1,1,1,2])\n"
   ]
  },
  {
   "cell_type": "code",
   "execution_count": 63,
   "metadata": {},
   "outputs": [],
   "source": [
    "def rolling_shannon_entropy(sequence):\n",
    "    m = 0\n",
    "    frequencies = {}\n",
    "    shannon_entropy_value = 0\n",
    "    for s_i in sequence:\n",
    "        m = m + 1\n",
    "        # number of residues\n",
    "        frequencies[s_i] = frequencies.get(s_i, 0) + 1\n",
    "        n_i = frequencies[s_i]\n",
    "        p_i = n_i / float(m)\n",
    "        entropy_i = p_i * (math.log(p_i, 2))\n",
    "        print(s_i, n_i, p_i, entropy_i)\n",
    "        shannon_entropy_value += entropy_i\n",
    "    print(shannon_entropy_value * -1)\n",
    "    return shannon_entropy_value * -1"
   ]
  },
  {
   "cell_type": "code",
   "execution_count": 66,
   "metadata": {},
   "outputs": [
    {
     "name": "stdout",
     "output_type": "stream",
     "text": [
      "(1, 1, 1.0, 0.0)\n",
      "(2, 1, 0.5, -0.5)\n",
      "(3, 1, 0.3333333333333333, -0.5283208335737187)\n",
      "(1, 2, 0.5, -0.5)\n",
      "(2, 2, 0.4, -0.5287712379549449)\n",
      "(3, 2, 0.3333333333333333, -0.5283208335737187)\n",
      "2.5854129051\n",
      "(3, 1, 1.0, 0.0)\n",
      "(2, 1, 0.5, -0.5)\n",
      "(1, 1, 0.3333333333333333, -0.5283208335737187)\n",
      "(1, 2, 0.5, -0.5)\n",
      "(3, 2, 0.4, -0.5287712379549449)\n",
      "(2, 2, 0.3333333333333333, -0.5283208335737187)\n",
      "2.5854129051\n"
     ]
    },
    {
     "data": {
      "text/plain": [
       "2.5854129051023826"
      ]
     },
     "execution_count": 66,
     "metadata": {},
     "output_type": "execute_result"
    }
   ],
   "source": [
    "rolling_shannon_entropy([1,2,3,1,2,3])\n",
    "rolling_shannon_entropy([3,2,1,1,3,2])"
   ]
  },
  {
   "cell_type": "code",
   "execution_count": 48,
   "metadata": {},
   "outputs": [],
   "source": [
    "f = {}"
   ]
  },
  {
   "cell_type": "code",
   "execution_count": 59,
   "metadata": {},
   "outputs": [],
   "source": [
    "f[2] = f.get(2, 0) + 1"
   ]
  },
  {
   "cell_type": "code",
   "execution_count": 60,
   "metadata": {},
   "outputs": [
    {
     "data": {
      "text/plain": [
       "{1: 2, 2: 2}"
      ]
     },
     "execution_count": 60,
     "metadata": {},
     "output_type": "execute_result"
    }
   ],
   "source": [
    "f"
   ]
  },
  {
   "cell_type": "code",
   "execution_count": null,
   "metadata": {},
   "outputs": [],
   "source": []
  }
 ],
 "metadata": {
  "kernelspec": {
   "display_name": "Python 3",
   "language": "python",
   "name": "python3"
  },
  "language_info": {
   "codemirror_mode": {
    "name": "ipython",
    "version": 2
   },
   "file_extension": ".py",
   "mimetype": "text/x-python",
   "name": "python",
   "nbconvert_exporter": "python",
   "pygments_lexer": "ipython2",
   "version": "2.7.17"
  }
 },
 "nbformat": 4,
 "nbformat_minor": 2
}
