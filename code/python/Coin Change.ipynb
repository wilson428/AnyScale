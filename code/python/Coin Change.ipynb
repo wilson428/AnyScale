{
 "cells": [
  {
   "cell_type": "code",
   "execution_count": 38,
   "metadata": {},
   "outputs": [],
   "source": [
    "S = [1,2,3]\n",
    "\n",
    "def count( n, m, level=0 ):\n",
    "    if n < 0 or m <= 0:\n",
    "        return 0\n",
    "    if n == 0:\n",
    "        return 1\n",
    "    return count( n, m - 1, level + 1 ) + count( n - S[m-1], m, level + 1 )"
   ]
  },
  {
   "cell_type": "code",
   "execution_count": 41,
   "metadata": {},
   "outputs": [
    {
     "data": {
      "text/plain": [
       "19"
      ]
     },
     "execution_count": 41,
     "metadata": {},
     "output_type": "execute_result"
    }
   ],
   "source": [
    "count(12, 3)"
   ]
  },
  {
   "cell_type": "code",
   "execution_count": 167,
   "metadata": {},
   "outputs": [],
   "source": [
    "table = [[0] * 3 for i in range(12)]\n",
    "def countDynamic( n, m ):\n",
    "    for i in range(n):\n",
    "        for j in range(m):\n",
    "            if i == 0:\n",
    "                table[i][j] = 1       \n",
    "            elif j == 0:\n",
    "                if i % S[j] == 0:\n",
    "                    print(i,j)\n",
    "                    table[i][j] = 1  \n",
    "                else:\n",
    "                    table[i][j] = 0\n",
    "            elif S[j] > i:\n",
    "                table[i][j] = table[i][j - 1]\n",
    "            else:\n",
    "                table[i][j] = table[i - S[j]][j] + table[i][j-1]\n",
    "    print(table)"
   ]
  },
  {
   "cell_type": "code",
   "execution_count": 60,
   "metadata": {},
   "outputs": [
    {
     "name": "stdout",
     "output_type": "stream",
     "text": [
      "(1, 0)\n",
      "(2, 0)\n",
      "(3, 0)\n",
      "(4, 0)\n",
      "(5, 0)\n",
      "(6, 0)\n",
      "(7, 0)\n",
      "(8, 0)\n",
      "(9, 0)\n",
      "(10, 0)\n",
      "(11, 0)\n",
      "[[1, 1, 1], [1, 1, 1], [1, 2, 2], [1, 2, 3], [1, 3, 4], [1, 3, 5], [1, 4, 7], [1, 4, 8], [1, 5, 10], [1, 5, 12], [1, 6, 14], [1, 6, 16]]\n"
     ]
    }
   ],
   "source": [
    "countDynamic(12,3)"
   ]
  },
  {
   "cell_type": "code",
   "execution_count": 12,
   "metadata": {},
   "outputs": [
    {
     "name": "stdout",
     "output_type": "stream",
     "text": [
      "0\n",
      "1\n",
      "2\n",
      "3\n",
      "4\n"
     ]
    }
   ],
   "source": [
    "for i in range(5):\n",
    "    print(i)"
   ]
  },
  {
   "cell_type": "code",
   "execution_count": null,
   "metadata": {},
   "outputs": [],
   "source": []
  }
 ],
 "metadata": {
  "kernelspec": {
   "display_name": "Python 3",
   "language": "python",
   "name": "python3"
  },
  "language_info": {
   "codemirror_mode": {
    "name": "ipython",
    "version": 2
   },
   "file_extension": ".py",
   "mimetype": "text/x-python",
   "name": "python",
   "nbconvert_exporter": "python",
   "pygments_lexer": "ipython2",
   "version": "2.7.17"
  }
 },
 "nbformat": 4,
 "nbformat_minor": 2
}
