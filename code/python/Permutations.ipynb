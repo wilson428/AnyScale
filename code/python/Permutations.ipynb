{
 "cells": [
  {
   "cell_type": "code",
   "execution_count": 5,
   "metadata": {},
   "outputs": [],
   "source": [
    "def shouldSwap(array, start, curr): \n",
    " \n",
    "    for i in range(start, curr): \n",
    "        if array[i] == array[curr]: \n",
    "            return 0\n",
    "    return 1\n",
    " \n",
    "# Prints all distinct permutations\n",
    "# in str[0..n-1] \n",
    "def findPermutations(array, index, n): \n",
    " \n",
    "    if index >= n: \n",
    "        print(array) \n",
    "        return\n",
    " \n",
    "    for i in range(index, n): \n",
    " \n",
    "        # Proceed further for str[i] only \n",
    "        # if it doesn't match with any of \n",
    "        # the characters after str[index] \n",
    "        check = shouldSwap(array, index, i) \n",
    "        if check: \n",
    "            array[index], array[i] = array[i], array[index] \n",
    "            findPermutations(array, index + 1, n) \n",
    "            array[index], array[i] = array[i], array[index] \n",
    " "
   ]
  },
  {
   "cell_type": "code",
   "execution_count": 9,
   "metadata": {},
   "outputs": [
    {
     "name": "stdout",
     "output_type": "stream",
     "text": [
      "['A', 'B', 'C', 'A']\n",
      "['A', 'B', 'A', 'C']\n",
      "['A', 'C', 'B', 'A']\n",
      "['A', 'C', 'A', 'B']\n",
      "['A', 'A', 'C', 'B']\n",
      "['A', 'A', 'B', 'C']\n",
      "['B', 'A', 'C', 'A']\n",
      "['B', 'A', 'A', 'C']\n",
      "['B', 'C', 'A', 'A']\n",
      "['C', 'B', 'A', 'A']\n",
      "['C', 'A', 'B', 'A']\n",
      "['C', 'A', 'A', 'B']\n"
     ]
    }
   ],
   "source": [
    "findPermutations([ \"A\", \"B\", \"C\", \"A\" ], 0, 4)"
   ]
  },
  {
   "cell_type": "code",
   "execution_count": 3,
   "metadata": {},
   "outputs": [],
   "source": [
    "a = [1,2,3,4,5]\n",
    "a[2], a[3] = a[3], a[2]"
   ]
  },
  {
   "cell_type": "code",
   "execution_count": null,
   "metadata": {},
   "outputs": [],
   "source": []
  },
  {
   "cell_type": "code",
   "execution_count": null,
   "metadata": {},
   "outputs": [],
   "source": []
  }
 ],
 "metadata": {
  "kernelspec": {
   "display_name": "Python 3",
   "language": "python",
   "name": "python3"
  },
  "language_info": {
   "codemirror_mode": {
    "name": "ipython",
    "version": 2
   },
   "file_extension": ".py",
   "mimetype": "text/x-python",
   "name": "python",
   "nbconvert_exporter": "python",
   "pygments_lexer": "ipython2",
   "version": "2.7.17"
  }
 },
 "nbformat": 4,
 "nbformat_minor": 2
}
